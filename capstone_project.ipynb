<p>This Notebook is created for capstone project courses.</p>

import pandas as pd
import numpy as np
print('Hello Capstone Project Course!')